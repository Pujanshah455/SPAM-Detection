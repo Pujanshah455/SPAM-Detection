{
 "cells": [
  {
   "cell_type": "markdown",
   "id": "174ab83f-f86e-47b3-9268-41d6f05f1d53",
   "metadata": {},
   "source": [
    "# Spam/Ham Classification using Natural Language Processing"
   ]
  },
  {
   "cell_type": "code",
   "execution_count": 43,
   "id": "b053140b-40aa-4054-a7e1-6e8234844784",
   "metadata": {},
   "outputs": [
    {
     "data": {
      "text/html": [
       "<div>\n",
       "<style scoped>\n",
       "    .dataframe tbody tr th:only-of-type {\n",
       "        vertical-align: middle;\n",
       "    }\n",
       "\n",
       "    .dataframe tbody tr th {\n",
       "        vertical-align: top;\n",
       "    }\n",
       "\n",
       "    .dataframe thead th {\n",
       "        text-align: right;\n",
       "    }\n",
       "</style>\n",
       "<table border=\"1\" class=\"dataframe\">\n",
       "  <thead>\n",
       "    <tr style=\"text-align: right;\">\n",
       "      <th></th>\n",
       "      <th>label</th>\n",
       "      <th>body_text</th>\n",
       "    </tr>\n",
       "  </thead>\n",
       "  <tbody>\n",
       "    <tr>\n",
       "      <th>0</th>\n",
       "      <td>ham</td>\n",
       "      <td>I've been searching for the right words to tha...</td>\n",
       "    </tr>\n",
       "    <tr>\n",
       "      <th>1</th>\n",
       "      <td>spam</td>\n",
       "      <td>Free entry in 2 a wkly comp to win FA Cup fina...</td>\n",
       "    </tr>\n",
       "    <tr>\n",
       "      <th>2</th>\n",
       "      <td>ham</td>\n",
       "      <td>Nah I don't think he goes to usf, he lives aro...</td>\n",
       "    </tr>\n",
       "    <tr>\n",
       "      <th>3</th>\n",
       "      <td>ham</td>\n",
       "      <td>Even my brother is not like to speak with me. ...</td>\n",
       "    </tr>\n",
       "    <tr>\n",
       "      <th>4</th>\n",
       "      <td>ham</td>\n",
       "      <td>I HAVE A DATE ON SUNDAY WITH WILL!!</td>\n",
       "    </tr>\n",
       "  </tbody>\n",
       "</table>\n",
       "</div>"
      ],
      "text/plain": [
       "  label                                          body_text\n",
       "0   ham  I've been searching for the right words to tha...\n",
       "1  spam  Free entry in 2 a wkly comp to win FA Cup fina...\n",
       "2   ham  Nah I don't think he goes to usf, he lives aro...\n",
       "3   ham  Even my brother is not like to speak with me. ...\n",
       "4   ham                I HAVE A DATE ON SUNDAY WITH WILL!!"
      ]
     },
     "execution_count": 43,
     "metadata": {},
     "output_type": "execute_result"
    }
   ],
   "source": [
    "dataset= pd.read_csv(\"SMSSpamCollection.tsv\",sep=\"\\t\",header=None)\n",
    "\n",
    "dataset.columns=['label','body_text']\n",
    "\n",
    "dataset.head()"
   ]
  },
  {
   "cell_type": "markdown",
   "id": "e77021db-0580-4b8e-a5f7-1d26fb0971c1",
   "metadata": {},
   "source": [
    "How many spam/ham are there"
   ]
  },
  {
   "cell_type": "code",
   "execution_count": 47,
   "id": "4946c8d2-004b-4dea-be29-22ff8cdc8038",
   "metadata": {},
   "outputs": [
    {
     "name": "stdout",
     "output_type": "stream",
     "text": [
      "Out of 5568 rows, 746 are spam. 4822 are ham\n"
     ]
    }
   ],
   "source": [
    "print(\"Out of {} rows, {} are spam. {} are ham\".format(len(dataset),len(dataset[dataset['label']=='spam']),\n",
    "                                                      len(dataset[dataset['label']=='ham'])))"
   ]
  },
  {
   "cell_type": "code",
   "execution_count": 55,
   "id": "7bc76678-18b1-4455-888d-57d9c5a4611d",
   "metadata": {},
   "outputs": [
    {
     "name": "stdout",
     "output_type": "stream",
     "text": [
      "(5568, 8107)\n"
     ]
    }
   ],
   "source": [
    "from sklearn.feature_extraction.text import CountVectorizer\n",
    "\n",
    "def clean_text(text):\n",
    "    text=\"\".join([word.lower() for word in text if word not in string.punctuation])\n",
    "    tokens=re.split('\\W',text)\n",
    "    text=[ps.stem(word) for word in tokens if word not in stopwords]\n",
    "    return text\n",
    "\n",
    "count_vect= CountVectorizer(analyzer=clean_text)\n",
    "\n",
    "X_count=count_vect.fit_transform(dataset['body_text'])\n",
    "\n",
    "print(X_count.shape)"
   ]
  },
  {
   "cell_type": "markdown",
   "id": "20a2053f-643c-4f15-a652-30463a4c6818",
   "metadata": {},
   "source": [
    "Apply count vectorizer to a smaller sample"
   ]
  },
  {
   "cell_type": "code",
   "execution_count": 56,
   "id": "7ff2047d-6adb-446a-8432-83f32a8fef0d",
   "metadata": {},
   "outputs": [
    {
     "name": "stdout",
     "output_type": "stream",
     "text": [
      "(20, 202)\n"
     ]
    }
   ],
   "source": [
    "data_sample=dataset[0:20]\n",
    "\n",
    "count_vect_sample= CountVectorizer(analyzer=clean_text)\n",
    "X_count_sample= count_vect_sample.fit_transform(data_sample['body_text'])\n",
    "\n",
    "print(X_count_sample.shape)"
   ]
  },
  {
   "cell_type": "code",
   "execution_count": 60,
   "id": "8c166d38-89b6-477d-a9a6-775e94c0ed9a",
   "metadata": {},
   "outputs": [
    {
     "name": "stdout",
     "output_type": "stream",
     "text": [
      "(5568, 8107)\n"
     ]
    }
   ],
   "source": [
    "from sklearn.feature_extraction.text import TfidfVectorizer\n",
    "\n",
    "tfidf_vect=TfidfVectorizer(analyzer=clean_text)\n",
    "X_tfidf= tfidf_vect.fit_transform(dataset['body_text'])\n",
    "\n",
    "print(X_tfidf.shape)"
   ]
  },
  {
   "cell_type": "markdown",
   "id": "7ec9036b-3dbf-483a-a8f7-69af484ae22e",
   "metadata": {},
   "source": [
    "Apply TfidfVectorizer to a smaller sample"
   ]
  },
  {
   "cell_type": "code",
   "execution_count": 61,
   "id": "513cbc0b-037b-49a9-a7f4-245508de4a3d",
   "metadata": {},
   "outputs": [
    {
     "name": "stdout",
     "output_type": "stream",
     "text": [
      "(20, 202)\n"
     ]
    }
   ],
   "source": [
    "data_sample=dataset[0:20]\n",
    "\n",
    "tfidf_vect_sample=TfidfVectorizer(analyzer=clean_text)\n",
    "X_tfidf_sample=tfidf_vect_sample.fit_transform(data_sample['body_text'])\n",
    "\n",
    "print(X_tfidf_sample.shape)"
   ]
  },
  {
   "cell_type": "code",
   "execution_count": 80,
   "id": "7f92229b-2af5-4d8c-8ef8-f274ea80fcd6",
   "metadata": {},
   "outputs": [
    {
     "data": {
      "text/html": [
       "<div>\n",
       "<style scoped>\n",
       "    .dataframe tbody tr th:only-of-type {\n",
       "        vertical-align: middle;\n",
       "    }\n",
       "\n",
       "    .dataframe tbody tr th {\n",
       "        vertical-align: top;\n",
       "    }\n",
       "\n",
       "    .dataframe thead th {\n",
       "        text-align: right;\n",
       "    }\n",
       "</style>\n",
       "<table border=\"1\" class=\"dataframe\">\n",
       "  <thead>\n",
       "    <tr style=\"text-align: right;\">\n",
       "      <th></th>\n",
       "      <th>label</th>\n",
       "      <th>body_text</th>\n",
       "    </tr>\n",
       "  </thead>\n",
       "  <tbody>\n",
       "    <tr>\n",
       "      <th>0</th>\n",
       "      <td>ham</td>\n",
       "      <td>I've been searching for the right words to tha...</td>\n",
       "    </tr>\n",
       "    <tr>\n",
       "      <th>1</th>\n",
       "      <td>spam</td>\n",
       "      <td>Free entry in 2 a wkly comp to win FA Cup fina...</td>\n",
       "    </tr>\n",
       "    <tr>\n",
       "      <th>2</th>\n",
       "      <td>ham</td>\n",
       "      <td>Nah I don't think he goes to usf, he lives aro...</td>\n",
       "    </tr>\n",
       "    <tr>\n",
       "      <th>3</th>\n",
       "      <td>ham</td>\n",
       "      <td>Even my brother is not like to speak with me. ...</td>\n",
       "    </tr>\n",
       "    <tr>\n",
       "      <th>4</th>\n",
       "      <td>ham</td>\n",
       "      <td>I HAVE A DATE ON SUNDAY WITH WILL!!</td>\n",
       "    </tr>\n",
       "  </tbody>\n",
       "</table>\n",
       "</div>"
      ],
      "text/plain": [
       "  label                                          body_text\n",
       "0   ham  I've been searching for the right words to tha...\n",
       "1  spam  Free entry in 2 a wkly comp to win FA Cup fina...\n",
       "2   ham  Nah I don't think he goes to usf, he lives aro...\n",
       "3   ham  Even my brother is not like to speak with me. ...\n",
       "4   ham                I HAVE A DATE ON SUNDAY WITH WILL!!"
      ]
     },
     "execution_count": 80,
     "metadata": {},
     "output_type": "execute_result"
    }
   ],
   "source": [
    "dataset=pd.read_csv(\"SMSSpamCollection.tsv\",sep=\"\\t\",header=None)\n",
    "\n",
    "dataset.columns=['label','body_text']\n",
    "\n",
    "dataset.head()"
   ]
  },
  {
   "cell_type": "code",
   "execution_count": 85,
   "id": "4a54b134-9f1b-43e3-aba2-569d6681f508",
   "metadata": {},
   "outputs": [],
   "source": [
    "import nltk\n",
    "import pandas as pd\n",
    "import re\n",
    "from sklearn.feature_extraction.text import TfidfVectorizer\n",
    "import string"
   ]
  },
  {
   "cell_type": "code",
   "execution_count": 86,
   "id": "e65f4e5d-1e69-4966-ae63-b6d9dac1139a",
   "metadata": {},
   "outputs": [
    {
     "data": {
      "text/html": [
       "<div>\n",
       "<style scoped>\n",
       "    .dataframe tbody tr th:only-of-type {\n",
       "        vertical-align: middle;\n",
       "    }\n",
       "\n",
       "    .dataframe tbody tr th {\n",
       "        vertical-align: top;\n",
       "    }\n",
       "\n",
       "    .dataframe thead th {\n",
       "        text-align: right;\n",
       "    }\n",
       "</style>\n",
       "<table border=\"1\" class=\"dataframe\">\n",
       "  <thead>\n",
       "    <tr style=\"text-align: right;\">\n",
       "      <th></th>\n",
       "      <th>label</th>\n",
       "      <th>body_text</th>\n",
       "    </tr>\n",
       "  </thead>\n",
       "  <tbody>\n",
       "    <tr>\n",
       "      <th>0</th>\n",
       "      <td>ham</td>\n",
       "      <td>I've been searching for the right words to tha...</td>\n",
       "    </tr>\n",
       "    <tr>\n",
       "      <th>1</th>\n",
       "      <td>spam</td>\n",
       "      <td>Free entry in 2 a wkly comp to win FA Cup fina...</td>\n",
       "    </tr>\n",
       "    <tr>\n",
       "      <th>2</th>\n",
       "      <td>ham</td>\n",
       "      <td>Nah I don't think he goes to usf, he lives aro...</td>\n",
       "    </tr>\n",
       "    <tr>\n",
       "      <th>3</th>\n",
       "      <td>ham</td>\n",
       "      <td>Even my brother is not like to speak with me. ...</td>\n",
       "    </tr>\n",
       "    <tr>\n",
       "      <th>4</th>\n",
       "      <td>ham</td>\n",
       "      <td>I HAVE A DATE ON SUNDAY WITH WILL!!</td>\n",
       "    </tr>\n",
       "  </tbody>\n",
       "</table>\n",
       "</div>"
      ],
      "text/plain": [
       "  label                                          body_text\n",
       "0   ham  I've been searching for the right words to tha...\n",
       "1  spam  Free entry in 2 a wkly comp to win FA Cup fina...\n",
       "2   ham  Nah I don't think he goes to usf, he lives aro...\n",
       "3   ham  Even my brother is not like to speak with me. ...\n",
       "4   ham                I HAVE A DATE ON SUNDAY WITH WILL!!"
      ]
     },
     "execution_count": 86,
     "metadata": {},
     "output_type": "execute_result"
    }
   ],
   "source": [
    "dataset=pd.read_csv(\"SMSSpamCollection.tsv\",sep=\"\\t\",header=None)\n",
    "\n",
    "dataset.columns=['label','body_text']\n",
    "\n",
    "dataset.head()"
   ]
  },
  {
   "cell_type": "code",
   "execution_count": 90,
   "id": "c81b1146-fa88-460f-82ad-9d7ed15f1ae7",
   "metadata": {},
   "outputs": [],
   "source": [
    "def clean_text(text):\n",
    "    text=\"\".join([word.lower() for word in text if word not in string.punctuation])\n",
    "    tokens=re.split('\\W',text)\n",
    "    text=[ps.stem(word) for word in tokens if word not in stopwords]\n",
    "    return text\n",
    "\n",
    "tfidf_vect=TfidfVectorizer(analyzer=clean_text)\n",
    "X_tfidf=tfidf_vect.fit_transform(dataset['body_text'])"
   ]
  },
  {
   "cell_type": "code",
   "execution_count": 97,
   "id": "5eebc0de-bbf1-4a19-95d2-e7a030cb5c0c",
   "metadata": {},
   "outputs": [],
   "source": [
    "y_pred= rf_model.predict(X_test)\n",
    "\n",
    "precision, recall, fscore, support=score(y_test, y_pred, pos_label='spam',average='binary')"
   ]
  }
 ],
 "metadata": {},
 "nbformat": 4,
 "nbformat_minor": 5
}
